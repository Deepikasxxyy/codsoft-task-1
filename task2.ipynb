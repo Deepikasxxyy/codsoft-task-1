{
 "cells": [
  {
   "cell_type": "code",
   "execution_count": 4,
   "id": "5cb33262-6054-4f62-ac35-0e85afbb2523",
   "metadata": {},
   "outputs": [
    {
     "name": "stdout",
     "output_type": "stream",
     "text": [
      "Welcome to Tic-Tac-Toe!\n",
      "['', '', '']\n",
      "['', '', '']\n",
      "['', '', '']\n"
     ]
    },
    {
     "name": "stdin",
     "output_type": "stream",
     "text": [
      "Enter your move (row col):  0 0\n"
     ]
    },
    {
     "name": "stdout",
     "output_type": "stream",
     "text": [
      "Human's move:\n",
      "['X', '', '']\n",
      "['', '', '']\n",
      "['', '', '']\n",
      "AI's move:\n",
      "['X', '', '']\n",
      "['', 'O', '']\n",
      "['', '', '']\n"
     ]
    },
    {
     "name": "stdin",
     "output_type": "stream",
     "text": [
      "Enter your move (row col):  1 1\n"
     ]
    },
    {
     "name": "stdout",
     "output_type": "stream",
     "text": [
      "Invalid move. Try again.\n"
     ]
    },
    {
     "name": "stdin",
     "output_type": "stream",
     "text": [
      "Enter your move (row col):  2 1\n"
     ]
    },
    {
     "name": "stdout",
     "output_type": "stream",
     "text": [
      "Human's move:\n",
      "['X', '', '']\n",
      "['', 'O', '']\n",
      "['', 'X', '']\n",
      "AI's move:\n",
      "['X', '', '']\n",
      "['O', 'O', '']\n",
      "['', 'X', '']\n"
     ]
    },
    {
     "name": "stdin",
     "output_type": "stream",
     "text": [
      "Enter your move (row col):  2 2\n"
     ]
    },
    {
     "name": "stdout",
     "output_type": "stream",
     "text": [
      "Human's move:\n",
      "['X', '', '']\n",
      "['O', 'O', '']\n",
      "['', 'X', 'X']\n",
      "AI's move:\n",
      "['X', '', '']\n",
      "['O', 'O', 'O']\n",
      "['', 'X', 'X']\n",
      "AI wins!\n"
     ]
    }
   ],
   "source": [
    "import math\n",
    "\n",
    "# Tic-Tac-Toe board\n",
    "board = [\n",
    "    [\"\", \"\", \"\"],\n",
    "    [\"\", \"\", \"\"],\n",
    "    [\"\", \"\", \"\"]\n",
    "]\n",
    "\n",
    "# Check if there's a winner\n",
    "def check_winner(b):\n",
    "    # Check rows, columns, and diagonals\n",
    "    for i in range(3):\n",
    "        if b[i][0] == b[i][1] == b[i][2] and b[i][0] != \"\":\n",
    "            return b[i][0]\n",
    "        if b[0][i] == b[1][i] == b[2][i] and b[0][i] != \"\":\n",
    "            return b[0][i]\n",
    "    if b[0][0] == b[1][1] == b[2][2] and b[0][0] != \"\":\n",
    "        return b[0][0]\n",
    "    if b[0][2] == b[1][1] == b[2][0] and b[0][2] != \"\":\n",
    "        return b[0][2]\n",
    "    return None\n",
    "\n",
    "# Check if the board is full (draw)\n",
    "def is_board_full(b):\n",
    "    for row in b:\n",
    "        if \"\" in row:\n",
    "            return False\n",
    "    return True\n",
    "\n",
    "# Minimax algorithm with Alpha-Beta pruning\n",
    "def minimax(b, depth, is_maximizing, alpha, beta):\n",
    "    winner = check_winner(b)\n",
    "    if winner == \"O\":  # AI wins\n",
    "        return 1\n",
    "    elif winner == \"X\":  # Human wins\n",
    "        return -1\n",
    "    elif is_board_full(b):  # Draw\n",
    "        return 0\n",
    "\n",
    "    if is_maximizing:\n",
    "        max_eval = -math.inf\n",
    "        for i in range(3):\n",
    "            for j in range(3):\n",
    "                if b[i][j] == \"\":\n",
    "                    b[i][j] = \"O\"\n",
    "                    eval = minimax(b, depth + 1, False, alpha, beta)\n",
    "                    b[i][j] = \"\"\n",
    "                    max_eval = max(max_eval, eval)\n",
    "                    alpha = max(alpha, eval)\n",
    "                    if beta <= alpha:\n",
    "                        break\n",
    "        return max_eval\n",
    "    else:\n",
    "        min_eval = math.inf\n",
    "        for i in range(3):\n",
    "            for j in range(3):\n",
    "                if b[i][j] == \"\":\n",
    "                    b[i][j] = \"X\"\n",
    "                    eval = minimax(b, depth + 1, True, alpha, beta)\n",
    "                    b[i][j] = \"\"\n",
    "                    min_eval = min(min_eval, eval)\n",
    "                    beta = min(beta, eval)\n",
    "                    if beta <= alpha:\n",
    "                        break\n",
    "        return min_eval\n",
    "\n",
    "# AI's best move\n",
    "def best_move():\n",
    "    best_score = -math.inf\n",
    "    move = (-1, -1)\n",
    "    for i in range(3):\n",
    "        for j in range(3):\n",
    "            if board[i][j] == \"\":\n",
    "                board[i][j] = \"O\"\n",
    "                score = minimax(board, 0, False, -math.inf, math.inf)\n",
    "                board[i][j] = \"\"\n",
    "                if score > best_score:\n",
    "                    best_score = score\n",
    "                    move = (i, j)\n",
    "    return move\n",
    "\n",
    "# Function to display the board\n",
    "def print_board():\n",
    "    for row in board:\n",
    "        print(row)\n",
    "\n",
    "# Human's turn\n",
    "def human_move(x, y):\n",
    "    if board[x][y] == \"\":\n",
    "        board[x][y] = \"X\"\n",
    "        return True\n",
    "    return False\n",
    "\n",
    "# Game loop\n",
    "def play_game():\n",
    "    print(\"Welcome to Tic-Tac-Toe!\")\n",
    "    print_board()\n",
    "\n",
    "    while True:\n",
    "        # Human's move\n",
    "        x, y = map(int, input(\"Enter your move (row col): \").split())\n",
    "        if not human_move(x, y):\n",
    "            print(\"Invalid move. Try again.\")\n",
    "            continue\n",
    "\n",
    "        print(\"Human's move:\")\n",
    "        print_board()\n",
    "\n",
    "        if check_winner(board) == \"X\":\n",
    "            print(\"You win!\")\n",
    "            break\n",
    "        elif is_board_full(board):\n",
    "            print(\"It's a draw!\")\n",
    "            break\n",
    "\n",
    "        # AI's move\n",
    "        ai_x, ai_y = best_move()\n",
    "        board[ai_x][ai_y] = \"O\"\n",
    "        print(\"AI's move:\")\n",
    "        print_board()\n",
    "\n",
    "        if check_winner(board) == \"O\":\n",
    "            print(\"AI wins!\")\n",
    "            break\n",
    "        elif is_board_full(board):\n",
    "            print(\"It's a draw!\")\n",
    "            break\n",
    "\n",
    "play_game()\n"
   ]
  },
  {
   "cell_type": "code",
   "execution_count": null,
   "id": "51671b1d-acc8-4fa7-8550-7c040875ec27",
   "metadata": {},
   "outputs": [],
   "source": []
  }
 ],
 "metadata": {
  "kernelspec": {
   "display_name": "Python 3 (ipykernel)",
   "language": "python",
   "name": "python3"
  },
  "language_info": {
   "codemirror_mode": {
    "name": "ipython",
    "version": 3
   },
   "file_extension": ".py",
   "mimetype": "text/x-python",
   "name": "python",
   "nbconvert_exporter": "python",
   "pygments_lexer": "ipython3",
   "version": "3.12.5"
  },
  "widgets": {
   "application/vnd.jupyter.widget-state+json": {
    "state": {},
    "version_major": 2,
    "version_minor": 0
   }
  }
 },
 "nbformat": 4,
 "nbformat_minor": 5
}
